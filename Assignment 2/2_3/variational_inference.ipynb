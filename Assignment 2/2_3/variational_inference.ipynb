{
 "cells": [
  {
   "cell_type": "code",
   "execution_count": 2,
   "metadata": {},
   "outputs": [],
   "source": [
    "import numpy as np\n",
    "import seaborn as sbs\n",
    "import matplotlib.pyplot as plt\n",
    "import seaborn as sbs"
   ]
  },
  {
   "cell_type": "code",
   "execution_count": 3,
   "metadata": {},
   "outputs": [
    {
     "data": {
      "text/plain": [
       "array([100.00087206, 101.09222342])"
      ]
     },
     "execution_count": 3,
     "metadata": {},
     "output_type": "execute_result"
    }
   ],
   "source": [
    "# Setting hyperparameters\n",
    "\n",
    "def inference_model(data, tol, a_0, b_0, lambda_0, mu_0):\n",
    "    \n",
    "    data_mean = np.mean(data)\n",
    "    data_sum_squared = np.dot(data,data)\n",
    "    \n",
    "    # Initializing parameters\n",
    "    old_parameters = 0\n",
    "    new_parameters = 1\n",
    "    N = np.size(data)\n",
    "    E_tao = 1\n",
    "    mu_N = 0\n",
    "    \n",
    "    while np.linalg.norm(new_parameters - old_parameters) > tol:\n",
    "        \n",
    "        \n",
    "        mu_N, lambda_N = VI_mu_update(data, data_mean, N, lambda_0, mu_0, E_tao)\n",
    "        a_N, b_N = VI_tao_update(data, data_mean,\n",
    "                                 N, lambda_0, mu_0, a_0, b_0, mu_N, lambda_N)\n",
    "        E_tao = a_N/b_N\n",
    "        old_parameters = new_parameters\n",
    "        new_parameters = np.array([mu_N, E_tao])\n",
    "        \n",
    "    return new_parameters\n",
    "\n",
    "    \n",
    "def VI_mu_update(data, data_mean, N, lambda_0, mu_0, E_tao):\n",
    "    \"\"\"\n",
    "    Parameter: data: Nx1 vector of observed variables\n",
    "    Parameter: data_mean: mean of data vector\n",
    "    Parameter: lamda_0: hyperparameter; Precision for prior on mu\n",
    "    Parameter: mu_0: hyperparameter; Mean for prior on mu\n",
    "    Parameter: E_tao: Expected value of tao\n",
    "    \"\"\"\n",
    "    \n",
    "    # Variational distriution for mu - Gaussian\n",
    "    mu_N = (lambda_0*mu_0 + N*data_mean) / (lambda_0 + N)\n",
    "    lambda_N = (lambda_0 + N)*E_tao\n",
    "    \n",
    "    return mu_N, lambda_N\n",
    "\n",
    "def VI_tao_update(data, data_mean, N, lambda_0, mu_0, a_0, b_0, mu_N, lambda_N):\n",
    "    \n",
    "    a_N = a_0 + N/2\n",
    "    \n",
    "    first_term = np.dot(data,data) - 2*N*mu_N*data_mean + N*(1/lambda_N + mu_N**2)\n",
    "    second_term = lambda_0*((1/lambda_N + mu_N**2) - 2*mu_0*mu_N + mu_0**2)\n",
    "    b_N = b_0 + 0.5*(first_term + second_term)\n",
    "    \n",
    "    return a_N, b_N\n",
    "    \n",
    "real_mu = 100\n",
    "real_tao = 10\n",
    "N = 10000\n",
    "sigma = np.sqrt(1/real_tao)\n",
    "data = np.random.normal(real_mu, sigma, (N))\n",
    "inference_model(data, tol = 1e-16, a_0=100,b_0=1, lambda_0=0, mu_0=10)\n",
    "    \n",
    "    "
   ]
  },
  {
   "cell_type": "code",
   "execution_count": null,
   "metadata": {},
   "outputs": [],
   "source": []
  },
  {
   "cell_type": "code",
   "execution_count": null,
   "metadata": {},
   "outputs": [],
   "source": []
  },
  {
   "cell_type": "code",
   "execution_count": null,
   "metadata": {},
   "outputs": [],
   "source": []
  }
 ],
 "metadata": {
  "kernelspec": {
   "display_name": "Python 3",
   "language": "python",
   "name": "python3"
  },
  "language_info": {
   "codemirror_mode": {
    "name": "ipython",
    "version": 3
   },
   "file_extension": ".py",
   "mimetype": "text/x-python",
   "name": "python",
   "nbconvert_exporter": "python",
   "pygments_lexer": "ipython3",
   "version": "3.7.4"
  }
 },
 "nbformat": 4,
 "nbformat_minor": 4
}
