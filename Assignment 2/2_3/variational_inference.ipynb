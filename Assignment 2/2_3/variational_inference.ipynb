{
 "cells": [
  {
   "cell_type": "code",
   "execution_count": 1,
   "metadata": {},
   "outputs": [],
   "source": [
    "import numpy as np\n",
    "import seaborn as sbs\n",
    "import matplotlib.pyplot as plt\n",
    "import seaborn as sns\n",
    "import scipy.stats as stats"
   ]
  },
  {
   "cell_type": "code",
   "execution_count": 296,
   "metadata": {},
   "outputs": [
    {
     "name": "stdout",
     "output_type": "stream",
     "text": [
      "100.00202920405702 98.34556043527151\n"
     ]
    }
   ],
   "source": [
    "# Setting hyperparameters\n",
    "\n",
    "def inference_model(data, tol, a_0, b_0, lambda_0, mu_0):\n",
    "    \n",
    "    data_mean = np.mean(data)\n",
    "    data_sum_squared = np.dot(data,data)\n",
    "    \n",
    "    # Initializing parameters\n",
    "    old_parameters = 0\n",
    "    new_parameters = 1\n",
    "    N = np.size(data)\n",
    "    E_tao = 1\n",
    "    mu_N = 0\n",
    "    \n",
    "    while np.linalg.norm(new_parameters - old_parameters) > tol:\n",
    "        \n",
    "        \n",
    "        mu_N, lambda_N = VI_mu_update(data, data_mean, N, lambda_0, mu_0, E_tao)\n",
    "        a_N, b_N = VI_tao_update(data, data_mean,\n",
    "                                 N, lambda_0, mu_0, a_0, b_0, mu_N, lambda_N)\n",
    "        E_tao = a_N/b_N\n",
    "        old_parameters = new_parameters\n",
    "        new_parameters = np.array([mu_N, E_tao])\n",
    "        \n",
    "    return mu_N, lambda_N, a_N, b_N\n",
    "\n",
    "    \n",
    "def VI_mu_update(data, data_mean, N, lambda_0, mu_0, E_tao):\n",
    "    \"\"\"\n",
    "    Parameter: data: Nx1 vector of observed variables\n",
    "    Parameter: data_mean: mean of data vector\n",
    "    Parameter: lamda_0: hyperparameter; Precision for prior on mu\n",
    "    Parameter: mu_0: hyperparameter; Mean for prior on mu\n",
    "    Parameter: E_tao: Expected value of tao\n",
    "    \"\"\"\n",
    "    \n",
    "    # Variational distriution for mu - Gaussian\n",
    "    mu_N = (lambda_0*mu_0 + N*data_mean) / (lambda_0 + N)\n",
    "    lambda_N = (lambda_0 + N)*E_tao\n",
    "    \n",
    "    return mu_N, lambda_N\n",
    "\n",
    "def VI_tao_update(data, data_mean, N, lambda_0, mu_0, a_0, b_0, mu_N, lambda_N):\n",
    "    \n",
    "    a_N = a_0 + N/2\n",
    "    \n",
    "    first_term = np.dot(data,data) - 2*N*mu_N*data_mean + N*(1/lambda_N + mu_N**2)\n",
    "    second_term = lambda_0*((1/lambda_N + mu_N**2) - 2*mu_0*mu_N + mu_0**2)\n",
    "    b_N = b_0 + 0.5*(first_term + second_term)\n",
    "    \n",
    "    return a_N, b_N\n",
    "    \n",
    "def true_posterior():\n",
    "    pass\n",
    "\n",
    "\n",
    "def real_posterior(data, mu, tao, a_0, b_0, lambda_0, mu_0):\n",
    "    N = np.size(data)\n",
    "    data_mean = np.mean(data)\n",
    "    \n",
    "    a_post = a_0 + N/2\n",
    "    b_post = b_0 + 0.5 * (np.dot(data,data) + lambda_0*mu_0**2 - (N*data_mean + lambda_0*mu_0)**2/(N+lambda_0))\n",
    "    \n",
    "    mu_post = ( N * data_mean + lambda_0*mu_0 )/(N + lambda_0)\n",
    "    tao_post = tao * (N + lambda_0)\n",
    "    std_post = np.sqrt(1/tao_post)\n",
    "    \n",
    "    gamma_likalihood = stats.gamma.pdf(tao, a_post, loc=0, scale=1/b_post)\n",
    "    gauss_likelihood = stats.norm.pdf(mu,mu_post,std_post)\n",
    "    \n",
    "    return gamma_likalihood * gauss_likelihood\n",
    "\n",
    "def inferred_posterior(mu, tao, mu_N, lambda_N, a_N, b_N):\n",
    "    std_N = np.sqrt(1/lambda_N)\n",
    "    \n",
    "    gamma_likelihood = stats.gamma.pdf(tao, a_N, loc=0, scale=1/b_N)\n",
    "    gauss_likelihood = stats.norm.pdf(mu,mu_N,std_N)\n",
    "    \n",
    "    return gamma_likelihood * gauss_likelihood\n",
    "\n",
    "\n",
    "# Constructing data\n",
    "real_mu = 100\n",
    "real_tao = 100\n",
    "N = 1000\n",
    "sigma = np.sqrt(1/real_tao)\n",
    "data = np.random.normal(real_mu, sigma, N)\n",
    "\n",
    "# Hyperparameters\n",
    "a_0 = 0\n",
    "b_0 = 0\n",
    "lambda_0 = 0\n",
    "mu_0 = 100\n",
    "\n",
    "mu_N, lambda_N, a_N, b_N = inference_model(data, tol = 1e-30, a_0=a_0,b_0=b_0, lambda_0=lambda_0, mu_0=mu_0)\n",
    "print(mu_N, a_N/b_N)\n",
    "E_tao = a_N/b_N"
   ]
  },
  {
   "cell_type": "code",
   "execution_count": 302,
   "metadata": {},
   "outputs": [
    {
     "data": {
      "image/png": "[encoded data removed]",
      "text/plain": [
       "<Figure size 432x288 with 1 Axes>"
      ]
     },
     "metadata": {},
     "output_type": "display_data"
    }
   ],
   "source": [
    "plot_range_x = 0.3\n",
    "plot_range_y = 20\n",
    "mu_axis = np.arange(mu_N-plot_range_x, mu_N + plot_range_x, 0.03)\n",
    "tao_axis = np.arange(E_tao-plot_range_y, E_tao + plot_range_y, 0.03)\n",
    "\n",
    "nx = np.size(mu_axis)\n",
    "ny = np.size(tao_axis)\n",
    "\n",
    "[X,Y] = np.meshgrid(mu_axis, tao_axis)\n",
    "Z_real = np.asarray([[real_posterior(data, mu, tao, a_0, b_0, lambda_0, mu_0) for tao in tao_axis] for mu in mu_axis])\n",
    "Z_inferred = np.asarray([[inferred_posterior(mu, tao, mu_N, lambda_N, a_N, b_N) for tao in tao_axis] for mu in mu_axis])\n",
    "\n",
    "sns.set_style('darkgrid')\n",
    "fig, ax = plt.subplots(1, 1) \n",
    "# plots contour lines \n",
    "\n",
    "cntr1 = ax.contour(X, Y, Z_real.T, colors='k', levels=[0.1,0.5,0.8,1,2,3,4,7,10])\n",
    "cntr2 = ax.contour(X, Y, Z_inferred.T, colors='C0', levels=[0.1,0.5,0.8,1,2,3,4,7,10])\n",
    "h1,_ = cntr1.legend_elements()\n",
    "h2,_ = cntr2.legend_elements()\n",
    "\n",
    "ax.legend([h1[0], h2[0]], ['Real posterior', 'Inferred posterior'], fontsize = 13, loc=3)\n",
    "\n",
    "plt.xlabel('Mu', fontsize=13)\n",
    "plt.ylabel('Tao', fontsize=13)\n",
    "plt.savefig('VI_plot_N_1000-mu_100-tau_100-mu0_100', dpi=300)\n",
    "plt.show() "
   ]
  },
  {
   "cell_type": "code",
   "execution_count": null,
   "metadata": {},
   "outputs": [],
   "source": []
  },
  {
   "cell_type": "code",
   "execution_count": null,
   "metadata": {},
   "outputs": [],
   "source": []
  },
  {
   "cell_type": "code",
   "execution_count": null,
   "metadata": {},
   "outputs": [],
   "source": []
  }
 ],
 "metadata": {
  "kernelspec": {
   "display_name": "Python 3",
   "language": "python",
   "name": "python3"
  },
  "language_info": {
   "codemirror_mode": {
    "name": "ipython",
    "version": 3
   },
   "file_extension": ".py",
   "mimetype": "text/x-python",
   "name": "python",
   "nbconvert_exporter": "python",
   "pygments_lexer": "ipython3",
   "version": "3.7.4"
  }
 },
 "nbformat": 4,
 "nbformat_minor": 4
}
