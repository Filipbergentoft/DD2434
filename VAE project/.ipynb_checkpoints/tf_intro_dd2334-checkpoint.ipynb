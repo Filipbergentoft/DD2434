{
  "nbformat": 4,
  "nbformat_minor": 0,
  "metadata": {
    "colab": {
      "name": "dd2334_tf.ipynb",
      "provenance": [],
      "collapsed_sections": []
    },
    "kernelspec": {
      "name": "python3",
      "display_name": "Python 3"
    },
    "accelerator": "GPU"
  },
  "cells": [
    {
      "cell_type": "markdown",
      "metadata": {
        "id": "KOu6eUvmTitL"
      },
      "source": [
        "<p><img alt=\"Colaboratory logo\" height=\"45px\" src=\"/img/colab_favicon.ico\" align=\"left\" hspace=\"10px\" vspace=\"0px\"></p>\n",
        "<h1> Intro to TensorFlow and Colab (DD2434/FDD3434) </h1>\n",
        "\n",
        "Why Colab? Four strong arguments:\n",
        "- It is free\n",
        "- No installations or configurations required\n",
        "- Access to GPUs compatible with TensorFlow or PyTorch\n",
        "- Popular Jupyter notebook environment\n",
        "\n",
        "Also, there are lots of tutorials, like <a href=\"https://www.youtube.com/watch?v=inN8seMm7UI\">this video</a> or <a href=\"https://colab.research.google.com/notebooks/intro.ipynb#scrollTo=5fCEDCU_qrC0\">this Colab</a>.\n"
      ]
    },
    {
      "cell_type": "markdown",
      "metadata": {
        "id": "EDcRaSbOY5Pi"
      },
      "source": [
        "Of course there are some downsides:\n",
        "- Jupyter notebook environment\n",
        "- GPUs are assigned – you could end up with not so nice GPUs\n",
        "- Progress stored locally (in the notebook environment) is deleted when the session ends\n",
        "- The session can end, for example, if you're away from keyboard too long, or RAM overload occurs\n",
        "- Maximum lifetime of 12 hours, i.e. max 12 hours of consecutive training time\n",
        "- So, make sure to mount your Google Drive (or GitHub) and continuously store your progress (like model weights etc.) there. Tip: use [checkpoints](https://www.tensorflow.org/guide/checkpoint)"
      ]
    },
    {
      "cell_type": "markdown",
      "metadata": {
        "id": "9uStraV-myiI"
      },
      "source": [
        "This presentation\n",
        "- will show you how to build and train a simple neural network in TensorFlow\n",
        "- is intended for absolute TensorFlow and Colab beginnners\n",
        "- will only cover neural networks very briefly\n",
        "- will provide code snippets which might be helpful in your projects\n",
        "- will not introduce PyTorch"
      ]
    },
    {
      "cell_type": "markdown",
      "metadata": {
        "id": "maSadtI62o-Q"
      },
      "source": [
        "# First, the Notebook \n",
        "\n",
        "In the notebook environment you can write and execute python code in <strong>code cells</strong>. Note that the variables in a code cell are stored locally and can be used in subsequent cells."
      ]
    },
    {
      "cell_type": "code",
      "metadata": {
        "id": "CD_c_F5gTceP"
      },
      "source": [
        "z = 10\n",
        "z **= 2"
      ],
      "execution_count": 1,
      "outputs": []
    },
    {
      "cell_type": "code",
      "metadata": {
        "id": "duYGmOJI5p1y",
        "colab": {
          "base_uri": "https://localhost:8080/"
        },
        "outputId": "aa66a31b-8875-4d92-f023-2f62c7252ba7"
      },
      "source": [
        "print(z)"
      ],
      "execution_count": 2,
      "outputs": [
        {
          "output_type": "stream",
          "text": [
            "100\n"
          ],
          "name": "stdout"
        }
      ]
    },
    {
      "cell_type": "code",
      "metadata": {
        "id": "g7pialYh5eqn",
        "colab": {
          "base_uri": "https://localhost:8080/"
        },
        "outputId": "900d247f-038b-4540-ca46-7fc1334c9f90"
      },
      "source": [
        "y = 5\n",
        "print(y * z)"
      ],
      "execution_count": 3,
      "outputs": [
        {
          "output_type": "stream",
          "text": [
            "500\n"
          ],
          "name": "stdout"
        }
      ]
    },
    {
      "cell_type": "markdown",
      "metadata": {
        "id": "YIibSwBxK5tN"
      },
      "source": [
        "Import libraries as usual\n"
      ]
    },
    {
      "cell_type": "code",
      "metadata": {
        "id": "O7sCudf3K1Gh"
      },
      "source": [
        "import numpy as np\n",
        "import matplotlib.pyplot as plt"
      ],
      "execution_count": 4,
      "outputs": []
    },
    {
      "cell_type": "markdown",
      "metadata": {
        "id": "TR4SEx7U6NjV"
      },
      "source": [
        "Aside from python code, you can add text using $\\LaTeX$, HTML and more.\n",
        "\n",
        "Mount to drive using the following command"
      ]
    },
    {
      "cell_type": "code",
      "metadata": {
        "id": "Kobbi_ZAtViv"
      },
      "source": [
        "from google.colab import drive\n",
        "drive.mount('/content/drive')"
      ],
      "execution_count": null,
      "outputs": []
    },
    {
      "cell_type": "markdown",
      "metadata": {
        "id": "TVIyagwwtx3l"
      },
      "source": [
        "Note that if your Drive is out of storage capacity, you can alternatively use <a href=\"https://colab.research.google.com/github/googlecolab/colabtools/blob/master/notebooks/colab-github-demo.ipynb#:~:text=If%20you%20would%20like%20to,and%20follow%20the%20resulting%20prompts\"> GitHub</a> as storage. "
      ]
    },
    {
      "cell_type": "markdown",
      "metadata": {
        "id": "XJjUUIpxOtEv"
      },
      "source": [
        "# Activation functions and dense layers\n",
        "- Activation functions perform non-linear transforms on the weighted sum of their inputs, $x$\n",
        "\n",
        "- Rectified linear unit, ReLU, is an activation function,\n",
        "$f(x) = \\text{max}(0, x)$\n",
        "\n",
        "- ReLU is computationally efficient since the gradients are either 0 or 1\n",
        "\n"
      ]
    },
    {
      "cell_type": "code",
      "metadata": {
        "id": "OPZQFs8Fn9vk",
        "colab": {
          "base_uri": "https://localhost:8080/",
          "height": 295
        },
        "outputId": "fa5d3999-fdcc-4017-d777-2355bd3d872e"
      },
      "source": [
        "x = np.linspace(-10, 11, 100)\n",
        "x_ticks = np.arange(-10, 11)\n",
        "plt.plot(x, np.zeros_like(x), 'r')\n",
        "plt.plot(x, np.maximum(0, x))\n",
        "plt.ylabel('$f(x)$')\n",
        "plt.xlabel('x')\n",
        "plt.title('ReLU')\n",
        "plt.xticks(x_ticks[::2])\n",
        "plt.show()"
      ],
      "execution_count": 5,
      "outputs": [
        {
          "output_type": "display_data",
          "data": {
            "image/png": "[encoded data removed]",
            "text/plain": [
              "<Figure size 432x288 with 1 Axes>"
            ]
          },
          "metadata": {
            "tags": [],
            "needs_background": "light"
          }
        }
      ]
    },
    {
      "cell_type": "markdown",
      "metadata": {
        "id": "jB_VfDA0iGw7"
      },
      "source": [
        "- For binary classification, an important activation function is the sigmoid function, $f(x) = \\frac{1}{1+e^{-x}}\\in(0,1)$"
      ]
    },
    {
      "cell_type": "code",
      "metadata": {
        "id": "SecEueT3lUE-",
        "colab": {
          "base_uri": "https://localhost:8080/",
          "height": 295
        },
        "outputId": "f2f37dcf-9449-49f4-924b-c21fef45c339"
      },
      "source": [
        "x = np.linspace(-10, 11, 100)\n",
        "x_ticks = np.arange(-10, 11)\n",
        "plt.plot(x, 1/(1 + np.exp(-x)))\n",
        "plt.ylabel('$f(x)$')\n",
        "plt.xlabel('x')\n",
        "plt.title('Sigmoid')\n",
        "plt.xticks(x_ticks[::2])\n",
        "plt.show()"
      ],
      "execution_count": 6,
      "outputs": [
        {
          "output_type": "display_data",
          "data": {
            "image/png": "[encoded data removed]",
            "text/plain": [
              "<Figure size 432x288 with 1 Axes>"
            ]
          },
          "metadata": {
            "tags": [],
            "needs_background": "light"
          }
        }
      ]
    },
    {
      "cell_type": "markdown",
      "metadata": {
        "id": "8nT7cnCimDIT"
      },
      "source": [
        "- Sigmoid is an appropriate choice when working with probabilities because of its range\n",
        "\n",
        "- ReLU is more expressive than the sigmoid function (greater range)\n",
        "\n",
        "- Instead of the sigmoid function, we will use the softmax function which gives a categorical distribution, $p_i = f(x_i) = \\frac{e^{x_i}}{\\sum_j e^{x_j}}\\in(0, 1)$\n",
        "\n",
        "- There are plenty of different activation functions, each with different pros and cons/use-cases"
      ]
    },
    {
      "cell_type": "markdown",
      "metadata": {
        "id": "YbeQ7haNqNkS"
      },
      "source": [
        "- A dense layer is a set of neurons. \"Dense\" because each neuron is connected with all neurons in the previous and subsequent layer\n",
        "\n",
        "<img src=\"https://miro.medium.com/max/1400/1*GTLzJ0sUmwDPb9uVffnZ6g.png\" width= \"400\"/>\n",
        "\n",
        "- [Image source](\"https://medium.com/datadriveninvestor/building-neural-network-using-keras-for-classification-3a3656c726c1\")\n",
        "\n"
      ]
    },
    {
      "cell_type": "markdown",
      "metadata": {
        "id": "xlZVLq0i6-DA"
      },
      "source": [
        "# Let's start\n",
        "Import TensorFlow (tf 2 is default in Colab)"
      ]
    },
    {
      "cell_type": "code",
      "metadata": {
        "id": "AD7obaX2-6e8"
      },
      "source": [
        "import tensorflow as tf"
      ],
      "execution_count": 7,
      "outputs": []
    },
    {
      "cell_type": "markdown",
      "metadata": {
        "id": "MxxW_JyD_Kdc"
      },
      "source": [
        "Keras is a python interface, developed as a deep learning API. TensorFlow 2 extensively utilizes the Keras interface which makes programming very easy (TensorFlow 1 was a bit more tricky). Using Keras, we now download the MNIST dataset."
      ]
    },
    {
      "cell_type": "code",
      "metadata": {
        "id": "vmwIyR5wBX8r",
        "colab": {
          "base_uri": "https://localhost:8080/"
        },
        "outputId": "1b2c216c-d2d6-4595-fe5b-e599fd075980"
      },
      "source": [
        "mnist = tf.keras.datasets.mnist\n",
        "(x_train, y_train), (x_test, y_test) = mnist.load_data()\n",
        "(training_samples, width, height) = x_train.shape\n",
        "test_samples = x_test.shape[0]\n",
        "print(f\"(training_samples, width, height) = {x_train.shape}\")\n",
        "print(f\"test_samples = {test_samples}\")\n",
        "print(f\"range = [{np.min(x_train)}, {np.max(x_train)}]\")"
      ],
      "execution_count": 8,
      "outputs": [
        {
          "output_type": "stream",
          "text": [
            "(training_samples, width, height) = (60000, 28, 28)\n",
            "test_samples = 10000\n",
            "range = [0, 255]\n"
          ],
          "name": "stdout"
        }
      ]
    },
    {
      "cell_type": "markdown",
      "metadata": {
        "id": "qO0xMVu-NkB5"
      },
      "source": [
        "Note: single channel (i.e. 4th dimension missing) due to grayscale.\n",
        "\n"
      ]
    },
    {
      "cell_type": "code",
      "metadata": {
        "id": "bMxXpNkOrGjs",
        "colab": {
          "base_uri": "https://localhost:8080/",
          "height": 282
        },
        "outputId": "65ba9596-95e8-4da4-a709-d4f26de2cc18"
      },
      "source": [
        "mnist_sample = plt.imshow(x_train[0])\n",
        "print(\"label: \", y_train[0])"
      ],
      "execution_count": 9,
      "outputs": [
        {
          "output_type": "stream",
          "text": [
            "label:  5\n"
          ],
          "name": "stdout"
        },
        {
          "output_type": "display_data",
          "data": {
            "image/png": "[encoded data removed]",
            "text/plain": [
              "<Figure size 432x288 with 1 Axes>"
            ]
          },
          "metadata": {
            "tags": [],
            "needs_background": "light"
          }
        }
      ]
    },
    {
      "cell_type": "markdown",
      "metadata": {
        "id": "PMpIrDEDCSnu"
      },
      "source": [
        "Advice is to normalize the pixel values to [0, 1]. If all features have similar range the gradient updates won't be unreasonably large in proportion to some feature values. A nice consequence of this is faster convergence. \n",
        "\n"
      ]
    },
    {
      "cell_type": "code",
      "metadata": {
        "id": "mwux6nyzB-9W",
        "colab": {
          "base_uri": "https://localhost:8080/"
        },
        "outputId": "c464a0a6-3761-4afe-ee41-64b5ae762d44"
      },
      "source": [
        "x_train, x_test = x_train / 255.0, x_test / 255.0\n",
        "print(f\"range = [{np.min(x_train)}, {np.max(x_train)}]\")"
      ],
      "execution_count": 10,
      "outputs": [
        {
          "output_type": "stream",
          "text": [
            "range = [0.0, 1.0]\n"
          ],
          "name": "stdout"
        }
      ]
    },
    {
      "cell_type": "code",
      "metadata": {
        "id": "5vYZM_4-uyzj"
      },
      "source": [
        "n_classes = 10\n",
        "units_dense_layer_1 = 128\n",
        "units_dense_layer_2 = 128"
      ],
      "execution_count": 11,
      "outputs": []
    },
    {
      "cell_type": "markdown",
      "metadata": {
        "id": "YumWISTrL1u6"
      },
      "source": [
        "Now we can put together the network using <a href=\"https://www.tensorflow.org/api_docs/python/tf/keras/Sequential\">tf.keras.Sequential</a> which sequentially concatenates neural network layers into a Keras model.\n",
        "\n"
      ]
    },
    {
      "cell_type": "code",
      "metadata": {
        "id": "SvYMcAoXNaSJ"
      },
      "source": [
        "model = tf.keras.models.Sequential([\n",
        "  tf.keras.layers.Flatten(input_shape=(width, height)),  # input to dense layer should be \"flat\"\n",
        "  tf.keras.layers.Dense(units_dense_layer_1, activation='relu'),\n",
        "  tf.keras.layers.Dense(units_dense_layer_2, activation='relu'),\n",
        "  tf.keras.layers.Dense(n_classes)\n",
        "])"
      ],
      "execution_count": 12,
      "outputs": []
    },
    {
      "cell_type": "markdown",
      "metadata": {
        "id": "pBD8GYHqzKd9"
      },
      "source": [
        "We can use a [Sparse categorical crossentropy](\"https://www.tensorflow.org/api_docs/python/tf/keras/losses/SparseCategoricalCrossentropy\") function as our loss function. \n",
        "\n",
        "- \"Sparse\" here implies that we do not need to code the labels as one hot vectors, \n",
        "\n",
        "- We use categorical crossentropy since the output from our neural network can, when normalized, be viewed as a categorical distribution\n",
        "\n",
        "- ```from_logits``` is equivalent to asking: are the neural network outputs logits? Simplified: has an activation function been applied to the outputs? If ```True```, the loss function applies a softmax function on its inputs.\n",
        "\n"
      ]
    },
    {
      "cell_type": "code",
      "metadata": {
        "id": "49gRJql-yqvz"
      },
      "source": [
        "loss_fn = tf.losses.SparseCategoricalCrossentropy(from_logits=True)"
      ],
      "execution_count": 13,
      "outputs": []
    },
    {
      "cell_type": "code",
      "metadata": {
        "id": "Db_9tLk96Wsn"
      },
      "source": [
        "model.compile(optimizer='adam',  # adam optimizer is a popular choice\n",
        "              loss=loss_fn,\n",
        "              metrics=['accuracy'])"
      ],
      "execution_count": 14,
      "outputs": []
    },
    {
      "cell_type": "markdown",
      "metadata": {
        "id": "j93y9QCc8sMh"
      },
      "source": [
        "We can now train, or \"fit\", the model to the training data. Fit performs backpropagation for us. But first partition it into train and validation sets, and create a checkpoint."
      ]
    },
    {
      "cell_type": "code",
      "metadata": {
        "id": "L4xN7DpW81GL",
        "colab": {
          "base_uri": "https://localhost:8080/"
        },
        "outputId": "25ab8e47-ab8c-47f2-ee51-ffb14ff19515"
      },
      "source": [
        "n_epochs = 5\n",
        "\n",
        "checkpoint_filepath = '.'  # put path to drive or git repo\n",
        "model_checkpoint_callback = tf.keras.callbacks.ModelCheckpoint(\n",
        "    filepath=checkpoint_filepath,\n",
        "    save_weights_only=True,\n",
        "    save_best_only=True)\n",
        "\n",
        "# 80% training data, rest validation data\n",
        "with tf.device('/device:GPU:0'):\n",
        "  history = model.fit(\n",
        "      x_train, y_train, epochs=n_epochs, validation_split=0.2, \n",
        "      callbacks=[model_checkpoint_callback]) "
      ],
      "execution_count": 15,
      "outputs": [
        {
          "output_type": "stream",
          "text": [
            "Epoch 1/5\n",
            "1500/1500 [==============================] - 3s 2ms/step - loss: 0.2526 - accuracy: 0.9265 - val_loss: 0.1234 - val_accuracy: 0.9636\n",
            "Epoch 2/5\n",
            "1500/1500 [==============================] - 3s 2ms/step - loss: 0.1047 - accuracy: 0.9667 - val_loss: 0.1192 - val_accuracy: 0.9646\n",
            "Epoch 3/5\n",
            "1500/1500 [==============================] - 3s 2ms/step - loss: 0.0711 - accuracy: 0.9784 - val_loss: 0.0971 - val_accuracy: 0.9706\n",
            "Epoch 4/5\n",
            "1500/1500 [==============================] - 3s 2ms/step - loss: 0.0535 - accuracy: 0.9830 - val_loss: 0.0882 - val_accuracy: 0.9737\n",
            "Epoch 5/5\n",
            "1500/1500 [==============================] - 3s 2ms/step - loss: 0.0405 - accuracy: 0.9874 - val_loss: 0.0973 - val_accuracy: 0.9726\n"
          ],
          "name": "stdout"
        }
      ]
    },
    {
      "cell_type": "code",
      "metadata": {
        "id": "hAftuHg9_LpL",
        "colab": {
          "base_uri": "https://localhost:8080/",
          "height": 279
        },
        "outputId": "910e59a0-1427-473f-ee64-1f5bfeae4268"
      },
      "source": [
        "plt.plot(history.history['loss'], 'b', label='Training loss')\n",
        "plt.plot(history.history['val_loss'], 'r', label='Validation loss')\n",
        "plt.xlabel('Epochs')\n",
        "plt.ylabel('Loss')\n",
        "plt.xticks(np.arange(n_epochs, dtype=int))\n",
        "plt.legend()\n",
        "plt.show()"
      ],
      "execution_count": 16,
      "outputs": [
        {
          "output_type": "display_data",
          "data": {
            "image/png": "[encoded data removed]",
            "text/plain": [
              "<Figure size 432x288 with 1 Axes>"
            ]
          },
          "metadata": {
            "tags": [],
            "needs_background": "light"
          }
        }
      ]
    },
    {
      "cell_type": "code",
      "metadata": {
        "id": "MZTZEz-AFnSx",
        "colab": {
          "base_uri": "https://localhost:8080/",
          "height": 282
        },
        "outputId": "27293dbf-7731-46be-f98b-36a299e11b2b"
      },
      "source": [
        "plt.plot(history.history['accuracy'], 'b', label='Training accuracy')\n",
        "plt.plot(history.history['val_accuracy'], 'r', label='Validation accuracy')\n",
        "plt.xlabel('Epochs')\n",
        "plt.ylabel('Accuracy')\n",
        "plt.xticks(np.arange(n_epochs, dtype=int))\n",
        "plt.legend()\n",
        "plt.show()"
      ],
      "execution_count": 17,
      "outputs": [
        {
          "output_type": "display_data",
          "data": {
            "image/png": "[encoded data removed]",
            "text/plain": [
              "<Figure size 432x288 with 1 Axes>"
            ]
          },
          "metadata": {
            "tags": [],
            "needs_background": "light"
          }
        }
      ]
    },
    {
      "cell_type": "code",
      "metadata": {
        "id": "YTINII7m-Mgl",
        "colab": {
          "base_uri": "https://localhost:8080/"
        },
        "outputId": "acd69e05-69c3-415d-a100-2821605e544a"
      },
      "source": [
        "# load stored weights\n",
        "model.load_weights(filepath=checkpoint_filepath)\n",
        "test_loss, test_accuracy = model.evaluate(x_test, y_test, verbose=False)\n",
        "print(f\"Test accuracy: {round(100 * test_accuracy, 2)}%\")"
      ],
      "execution_count": 18,
      "outputs": [
        {
          "output_type": "stream",
          "text": [
            "Test accuracy: 97.57%\n"
          ],
          "name": "stdout"
        }
      ]
    },
    {
      "cell_type": "markdown",
      "metadata": {
        "id": "3pbrh8c6HGwK"
      },
      "source": [
        "# Useful observation when designing VAEs\n",
        "\n",
        "Outputs from one Keras-model instance may serve as an input to another Keras-model instance. Consider a regular auto-encoder; the output from the encoder network, $z$, can be used as input to the decoder network. In fact, we may also perform operations on $z$ (preferably using tf functionalities, though) before inputting it to the decoder network. "
      ]
    }
  ]
}